{
 "metadata": {
  "name": ""
 },
 "nbformat": 3,
 "nbformat_minor": 0,
 "worksheets": [
  {
   "cells": [
    {
     "cell_type": "heading",
     "level": 1,
     "metadata": {},
     "source": [
      "Ambient Fisher Gnomonic Interpolant"
     ]
    },
    {
     "cell_type": "markdown",
     "metadata": {},
     "source": [
      "by Kyle Cranmer, Dec 24, 2014, BSD license\n",
      "based on notes and discussion with Jeff Streets at UCI.\n",
      "\n",
      "![Gnome Fisher](files/gnome-fishing.jpg)"
     ]
    },
    {
     "cell_type": "code",
     "collapsed": false,
     "input": [
      "%matplotlib inline"
     ],
     "language": "python",
     "metadata": {},
     "outputs": [],
     "prompt_number": 3
    },
    {
     "cell_type": "code",
     "collapsed": false,
     "input": [
      "import numpy as np\n",
      "import numpy.linalg as linalg\n",
      "import matplotlib as mpl\n",
      "import matplotlib.pyplot as plt\n",
      "from sklearn import manifold\n",
      "from mpl_toolkits.mplot3d import Axes3D\n",
      "from scipy.optimize import minimize\n",
      "import scipy.optimize \n",
      "from scipy.spatial import Delaunay"
     ],
     "language": "python",
     "metadata": {},
     "outputs": [],
     "prompt_number": 160
    },
    {
     "cell_type": "heading",
     "level": 2,
     "metadata": {},
     "source": [
      "Create pairs of (parameter, distribution)"
     ]
    },
    {
     "cell_type": "code",
     "collapsed": false,
     "input": [
      "# parameter points\n",
      "alphas = np.array([[0,0],[1,0],[0,1]])\n",
      "\n",
      "# dim = 1+#dim parameters = dim of embedding\n",
      "dim = 3 \n",
      "\n",
      "# for starters, define a parametrized family of functions explicitly and draw from it\n",
      "f = lambda alpha: lambda x : np.exp(-0.5*(x-alpha[0])**2 / (0.5*alpha[1]+1)**2)/np.sqrt(2*np.pi) / (0.5*alpha[1]+1)\n",
      "dists = []\n",
      "for alpha in alphas:\n",
      "    dists.append( f(alpha) )"
     ],
     "language": "python",
     "metadata": {},
     "outputs": [],
     "prompt_number": 124
    },
    {
     "cell_type": "heading",
     "level": 2,
     "metadata": {},
     "source": [
      "Calculate pair-wise chord distances, embed on n-sphere, & rotate first to south pole"
     ]
    },
    {
     "cell_type": "markdown",
     "metadata": {},
     "source": [
      "It's going to be easier to work in the space of the sqrt of distributions, so let's define a simple transformation q "
     ]
    },
    {
     "cell_type": "code",
     "collapsed": false,
     "input": [
      "q = lambda h: (lambda x: np.sqrt(h(x)))"
     ],
     "language": "python",
     "metadata": {},
     "outputs": [],
     "prompt_number": 125
    },
    {
     "cell_type": "code",
     "collapsed": false,
     "input": [
      "def inner_product(q1,q2, xmin=-7, xmax=7):\n",
      "    # this is a simple numeric integration\n",
      "    num = 10000.\n",
      "    xarray = np.linspace(xmin,xmax,num)\n",
      "    return np.sum(q1(xarray) * q2(xarray))*(xmax-xmin)/num"
     ],
     "language": "python",
     "metadata": {},
     "outputs": [],
     "prompt_number": 126
    },
    {
     "cell_type": "code",
     "collapsed": false,
     "input": [
      "(inner_product(q(dists[0]),q(dists[0])), inner_product(q(dists[1]),q(dists[1])),inner_product(q(dists[2]),q(dists[2])))"
     ],
     "language": "python",
     "metadata": {},
     "outputs": [
      {
       "metadata": {},
       "output_type": "pyout",
       "prompt_number": 127,
       "text": [
        "(0.99989999999745338, 0.99989999901776028, 0.99989694599725443)"
       ]
      }
     ],
     "prompt_number": 127
    },
    {
     "cell_type": "heading",
     "level": 2,
     "metadata": {},
     "source": [
      "Create pairs of (parameter simplex, Gnomonic simplex)"
     ]
    },
    {
     "cell_type": "code",
     "collapsed": false,
     "input": [
      "def getChordDistance(q1,q2):\n",
      "    return 2.*np.sin( np.arccos( inner_product(q1, q2) ) /2. )"
     ],
     "language": "python",
     "metadata": {},
     "outputs": [],
     "prompt_number": 128
    },
    {
     "cell_type": "code",
     "collapsed": false,
     "input": [
      "tempSim=[]\n",
      "for f1 in dists:\n",
      "    temp = []\n",
      "    for f2 in dists:\n",
      "        temp.append(getChordDistance(q(f1),q(f2)))\n",
      "    tempSim.append(temp)\n",
      "chordDistMatrix=np.array(tempSim)\n",
      "chordDistMatrix #diagonals should be close to 0"
     ],
     "language": "python",
     "metadata": {},
     "outputs": [
      {
       "metadata": {},
       "output_type": "pyout",
       "prompt_number": 129,
       "text": [
        "array([[ 0.01414214,  0.48495638,  0.28045376],\n",
        "       [ 0.48495638,  0.01414221,  0.4700093 ],\n",
        "       [ 0.28045376,  0.4700093 ,  0.01435646]])"
       ]
      }
     ],
     "prompt_number": 129
    },
    {
     "cell_type": "code",
     "collapsed": false,
     "input": [
      "seed = np.random.RandomState(seed=3)\n",
      "mds = manifold.MDS(n_components=dim, metric=True, max_iter=3000, eps=1e-9, random_state=seed,dissimilarity=\"precomputed\", n_jobs=1)\n",
      "embeded = mds.fit(chordDistMatrix).embedding_\n",
      "mds.fit(chordDistMatrix).stress_"
     ],
     "language": "python",
     "metadata": {},
     "outputs": [
      {
       "metadata": {},
       "output_type": "pyout",
       "prompt_number": 145,
       "text": [
        "0.00030305513607825206"
       ]
      }
     ],
     "prompt_number": 145
    },
    {
     "cell_type": "code",
     "collapsed": false,
     "input": [
      "def minimizeMe(x):\n",
      "    ret = 0.\n",
      "    for point in embeded:\n",
      "        ret += (linalg.norm( point-x)-1.)**2\n",
      "    return ret"
     ],
     "language": "python",
     "metadata": {},
     "outputs": [],
     "prompt_number": 146
    },
    {
     "cell_type": "code",
     "collapsed": false,
     "input": [
      "center = [0,0,0]\n",
      "result = minimize(minimizeMe,center, method='nelder-mead',\n",
      "                    options={'xtol': 1e-8, 'disp': True})\n",
      "center = result.x\n",
      "for point in embeded:\n",
      "    point -= center"
     ],
     "language": "python",
     "metadata": {},
     "outputs": [
      {
       "output_type": "stream",
       "stream": "stdout",
       "text": [
        "Optimization terminated successfully.\n",
        "         Current function value: 0.000000\n",
        "         Iterations: 269\n",
        "         Function evaluations: 486\n"
       ]
      }
     ],
     "prompt_number": 147
    },
    {
     "cell_type": "markdown",
     "metadata": {},
     "source": [
      "Need to translate points so that they are around center of sphere"
     ]
    },
    {
     "cell_type": "code",
     "collapsed": false,
     "input": [
      "u = np.zeros(dim)\n",
      "u[-1]=-1\n",
      "v = embeded[0] - embeded[0].dot(u)*u\n",
      "v/=linalg.norm(v)\n",
      "v.dot(u)\n",
      "theta = -np.arccos(embeded[0].dot(u))\n",
      "vuT=np.outer(v,u.T)\n",
      "uvT=np.outer(u,v.T)\n",
      "uuT=np.outer(u,u.T)\n",
      "vvT=np.outer(v,v.T)\n",
      "I = np.identity(dim)\n",
      "A=I + np.sin(theta)*(vuT-uvT) + (np.cos(theta)-1.)*(uuT+vvT)\n",
      "A.dot(embeded[0])"
     ],
     "language": "python",
     "metadata": {},
     "outputs": [
      {
       "metadata": {},
       "output_type": "pyout",
       "prompt_number": 148,
       "text": [
        "array([  8.40647702e-10,   2.82505769e-10,  -1.00000000e+00])"
       ]
      }
     ],
     "prompt_number": 148
    },
    {
     "cell_type": "code",
     "collapsed": false,
     "input": [
      "pointsOnSphere = embeded.copy()\n",
      "for i, point in enumerate(embeded):\n",
      "    #if i==0: continue\n",
      "    pointsOnSphere[i] = A.dot(point)\n",
      "    if pointsOnSphere[i,2]>0:\n",
      "        print \"error, shouldn't have points up there\"\n",
      "pointsOnSphere[0] = np.zeros(dim) #just to get rid of roundoff for this first point\n",
      "pointsOnSphere[0,-1] = -1.\n",
      "pointsOnSphere[:3]"
     ],
     "language": "python",
     "metadata": {},
     "outputs": [
      {
       "metadata": {},
       "output_type": "pyout",
       "prompt_number": 150,
       "text": [
        "array([[ 0.        ,  0.        , -1.        ],\n",
        "       [ 0.33008693,  0.33526584, -0.88240548],\n",
        "       [ 0.24984741, -0.12117549, -0.96067308]])"
       ]
      }
     ],
     "prompt_number": 150
    },
    {
     "cell_type": "code",
     "collapsed": false,
     "input": [
      "gnomonicProjection = pointsOnSphere.copy()\n",
      "for i, point in enumerate(pointsOnSphere):\n",
      "    gnomonicProjection[i] = -1.*point/point[-1]"
     ],
     "language": "python",
     "metadata": {},
     "outputs": [],
     "prompt_number": 152
    },
    {
     "cell_type": "code",
     "collapsed": false,
     "input": [
      "nSamples = 15 #samples along ray for visualization\n",
      "rays = np.zeros((nPoints*nSamples,dim))\n",
      "for i, point in enumerate(gnomonicProjection):\n",
      "    for j, c in enumerate(np.linspace(0,1,nSamples)):\n",
      "        rays[i*nSamples+j] = c * point"
     ],
     "language": "python",
     "metadata": {},
     "outputs": [],
     "prompt_number": 153
    },
    {
     "cell_type": "code",
     "collapsed": false,
     "input": [
      "fig = plt.figure(figsize=(5,5))\n",
      "subpl = fig.add_subplot(111,projection='3d')\n",
      "subpl.scatter(rays[:, 0], rays[:, 1], rays[:, 2],marker='.',c=pointsOnSphere[:,0]*0+.01)\n",
      "subpl.scatter(pointsOnSphere[:, 0], pointsOnSphere[:, 1],pointsOnSphere[:, 2],\n",
      "              marker='o',c=-pointsOnSphere[:,2])#,cmap=mpl.cm.gray)\n",
      "subpl.scatter(gnomonicProjection[:, 0], gnomonicProjection[:, 1], gnomonicProjection[:, 2],\n",
      "              c=-pointsOnSphere[:,2])#,cmap=mpl.cm.gray)\n",
      "plt.show()"
     ],
     "language": "python",
     "metadata": {},
     "outputs": [
      {
       "metadata": {},
       "output_type": "display_data",
       "png": "[encoded data removed]",
       "text": [
        "<matplotlib.figure.Figure at 0x1136cb510>"
       ]
      }
     ],
     "prompt_number": 158
    },
    {
     "cell_type": "code",
     "collapsed": false,
     "input": [
      "alphaSimplex = Delaunay(alphas)\n",
      "gnomonicSimplex = Delaunay(gnomonicProjection[:3,:2])"
     ],
     "language": "python",
     "metadata": {},
     "outputs": [],
     "prompt_number": 298
    },
    {
     "cell_type": "code",
     "collapsed": false,
     "input": [
      "normedVertices = gnomonicProjection[:3,:2]\n",
      "normedVertices[1] /= linalg.norm(normedVertices[1])\n",
      "normedVertices[2] /= linalg.norm(normedVertices[2])\n",
      "normedSimplex = Delaunay(normedVertices)"
     ],
     "language": "python",
     "metadata": {},
     "outputs": [],
     "prompt_number": 299
    },
    {
     "cell_type": "heading",
     "level": 2,
     "metadata": {},
     "source": [
      "Create Interpolant"
     ]
    },
    {
     "cell_type": "code",
     "collapsed": false,
     "input": [
      "alpha1 = np.array([0.95,0.0])\n",
      "alpha2 = np.array([0.0,0.95])\n",
      "alpha = alpha1\n",
      "baryCoords = alphaSimplex.transform[0,:dim-1,:].dot(alpha)\n",
      "gnomonicTarget = linalg.inv(gnomonicSimplex.transform[0,:dim-1,:]).dot(baryCoords)\n",
      "normedBaryCoords = normedSimplex.transform[0,:dim-1,:].dot(gnomonicTarget)\n",
      "t = np.arctan(linalg.norm(gnomonicTarget))\n",
      "t, normedBaryCoords"
     ],
     "language": "python",
     "metadata": {},
     "outputs": [
      {
       "metadata": {},
       "output_type": "pyout",
       "prompt_number": 323,
       "text": [
        "(0.75976275487577083, array([  5.55111512e-17,   9.50000000e-01]))"
       ]
      }
     ],
     "prompt_number": 323
    },
    {
     "cell_type": "code",
     "collapsed": false,
     "input": [
      "dot01 = inner_product(q(dists[0]),q(dists[1]))\n",
      "dot02 = inner_product(q(dists[0]),q(dists[2]))\n",
      "t1 = lambda x: q(dists[1])(x) - dot01*q(dists[0])(x)\n",
      "t2 = lambda x: q(dists[2])(x) - dot02*q(dists[0])(x)\n",
      "norm1 = inner_product(t1,t1)\n",
      "norm2 = inner_product(t2,t2)\n",
      "u1 = lambda x: t1(x)/norm1\n",
      "u2 = lambda x: t2(x)/norm2\n",
      "unnorm_tan = lambda x: u1(x)*normedBaryCoords[1] + u2(x)*normedBaryCoords[0]\n",
      "#unnorm_tan = lambda x: u1(x)*normedBaryCoords[0]+u2(x)*normedBaryCoords[1]\n",
      "norm_tan = inner_product(unnorm_tan,unnorm_tan)\n",
      "tangent = lambda x: unnorm_tan(x) /norm_tan\n",
      "print norm_tan, unnorm_tan(0)\n",
      "interpolant = lambda x: ( np.cos(t)*q(dists[0])(x) + np.sin(t)*tangent(x) )**2\n",
      "t, np.arccos(inner_product(q(interpolant),q(dists[0]))),inner_product(q(interpolant),q(interpolant))"
     ],
     "language": "python",
     "metadata": {},
     "outputs": [
      {
       "output_type": "stream",
       "stream": "stdout",
       "text": [
        "4.08044044433 -0.281080822507\n"
       ]
      },
      {
       "metadata": {},
       "output_type": "pyout",
       "prompt_number": 336,
       "text": [
        "(0.75976275487577083, 0.75977513283199694, 0.6419204129328393)"
       ]
      }
     ],
     "prompt_number": 336
    },
    {
     "cell_type": "code",
     "collapsed": false,
     "input": [
      "xarray = np.linspace(-5,5,100)\n",
      "plt.plot(xarray,dists[0](xarray),c='black')\n",
      "plt.plot(xarray,dists[1](xarray),c='r')\n",
      "plt.plot(xarray,dists[2](xarray),c='g')\n",
      "plt.plot(xarray,interpolant(xarray),c='b')"
     ],
     "language": "python",
     "metadata": {},
     "outputs": [
      {
       "metadata": {},
       "output_type": "pyout",
       "prompt_number": 337,
       "text": [
        "[<matplotlib.lines.Line2D at 0x115f9da50>]"
       ]
      },
      {
       "metadata": {},
       "output_type": "display_data",
       "png": "[encoded data removed]",
       "text": [
        "<matplotlib.figure.Figure at 0x115f66450>"
       ]
      }
     ],
     "prompt_number": 337
    },
    {
     "cell_type": "code",
     "collapsed": false,
     "input": [
      "plt.plot(xarray,t1(xarray),c='r')\n",
      "plt.plot(xarray,t2(xarray),c='g')\n",
      "plt.plot(xarray,unnorm_tan(xarray),c='black')\n",
      "plt.plot(xarray,tangent(xarray),c='b')"
     ],
     "language": "python",
     "metadata": {},
     "outputs": [
      {
       "metadata": {},
       "output_type": "pyout",
       "prompt_number": 338,
       "text": [
        "[<matplotlib.lines.Line2D at 0x116033190>]"
       ]
      },
      {
       "metadata": {},
       "output_type": "display_data",
       "png": "[encoded data removed]",
       "text": [
        "<matplotlib.figure.Figure at 0x115dae690>"
       ]
      }
     ],
     "prompt_number": 338
    },
    {
     "cell_type": "heading",
     "level": 2,
     "metadata": {},
     "source": [
      "check if original points + interpolant can still be embeded on a 3sphere well"
     ]
    },
    {
     "cell_type": "code",
     "collapsed": false,
     "input": [],
     "language": "python",
     "metadata": {},
     "outputs": []
    }
   ],
   "metadata": {}
  }
 ]
}