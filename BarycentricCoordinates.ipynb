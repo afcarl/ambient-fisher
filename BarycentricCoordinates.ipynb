{
 "metadata": {
  "name": ""
 },
 "nbformat": 3,
 "nbformat_minor": 0,
 "worksheets": [
  {
   "cells": [
    {
     "cell_type": "code",
     "collapsed": false,
     "input": [
      "%pylab"
     ],
     "language": "python",
     "metadata": {},
     "outputs": [
      {
       "output_type": "stream",
       "stream": "stdout",
       "text": [
        "Using matplotlib backend: MacOSX\n",
        "Populating the interactive namespace from numpy and matplotlib\n"
       ]
      }
     ],
     "prompt_number": 1
    },
    {
     "cell_type": "code",
     "collapsed": false,
     "input": [
      "from scipy.spatial import Delaunay"
     ],
     "language": "python",
     "metadata": {},
     "outputs": [],
     "prompt_number": 2
    },
    {
     "cell_type": "code",
     "collapsed": false,
     "input": [
      "points = np.array([[0, 0], [0, 1.1], [1, 0], [1, 1]])\n",
      "points = np.array([[0, 0], [0, 1.1], [1, 1]])\n",
      "tri = Delaunay(points)"
     ],
     "language": "python",
     "metadata": {},
     "outputs": [],
     "prompt_number": 3
    },
    {
     "cell_type": "code",
     "collapsed": false,
     "input": [
      "plt.triplot(points[:,0], points[:,1])\n",
      "plt.plot(points[:,0], points[:,1], 'o')\n",
      "plt.show()"
     ],
     "language": "python",
     "metadata": {},
     "outputs": [],
     "prompt_number": 4
    },
    {
     "cell_type": "code",
     "collapsed": false,
     "input": [
      "tri.find_simplex([0.1,0.2])"
     ],
     "language": "python",
     "metadata": {},
     "outputs": [
      {
       "metadata": {},
       "output_type": "pyout",
       "prompt_number": 5,
       "text": [
        "array(0, dtype=int32)"
       ]
      }
     ],
     "prompt_number": 5
    },
    {
     "cell_type": "code",
     "collapsed": false,
     "input": [
      "p = np.array([0.4,0.7])\n",
      "index = tri.find_simplex(p)\n",
      "tri.transform[index,].dot(points.T)"
     ],
     "language": "python",
     "metadata": {},
     "outputs": [
      {
       "metadata": {},
       "output_type": "pyout",
       "prompt_number": 6,
       "text": [
        "array([[ 0.,  1.,  0.],\n",
        "       [ 0.,  0.,  1.],\n",
        "       [ 0.,  0.,  0.]])"
       ]
      }
     ],
     "prompt_number": 6
    },
    {
     "cell_type": "code",
     "collapsed": false,
     "input": [
      "tri.transform[index,:2,:].dot(p)"
     ],
     "language": "python",
     "metadata": {},
     "outputs": [
      {
       "metadata": {},
       "output_type": "pyout",
       "prompt_number": 7,
       "text": [
        "array([ 0.27272727,  0.4       ])"
       ]
      }
     ],
     "prompt_number": 7
    },
    {
     "cell_type": "code",
     "collapsed": false,
     "input": [
      "points"
     ],
     "language": "python",
     "metadata": {},
     "outputs": [
      {
       "metadata": {},
       "output_type": "pyout",
       "prompt_number": 8,
       "text": [
        "array([[ 0. ,  0. ],\n",
        "       [ 0. ,  1.1],\n",
        "       [ 1. ,  1. ]])"
       ]
      }
     ],
     "prompt_number": 8
    },
    {
     "cell_type": "code",
     "collapsed": false,
     "input": [
      "shape(tri.transform)"
     ],
     "language": "python",
     "metadata": {},
     "outputs": [
      {
       "metadata": {},
       "output_type": "pyout",
       "prompt_number": 9,
       "text": [
        "(1, 3, 2)"
       ]
      }
     ],
     "prompt_number": 9
    },
    {
     "cell_type": "code",
     "collapsed": false,
     "input": [
      "np.shape(tri.transform[0,:2,:])"
     ],
     "language": "python",
     "metadata": {},
     "outputs": [
      {
       "metadata": {},
       "output_type": "pyout",
       "prompt_number": 10,
       "text": [
        "(2, 2)"
       ]
      }
     ],
     "prompt_number": 10
    },
    {
     "cell_type": "code",
     "collapsed": false,
     "input": [
      "inv = linalg.inv(tri.transform[0,:2,:2])"
     ],
     "language": "python",
     "metadata": {},
     "outputs": [],
     "prompt_number": 11
    },
    {
     "cell_type": "code",
     "collapsed": false,
     "input": [
      "inv.dot(np.array([0.27,0.4]))"
     ],
     "language": "python",
     "metadata": {},
     "outputs": [
      {
       "metadata": {},
       "output_type": "pyout",
       "prompt_number": 12,
       "text": [
        "array([ 0.4  ,  0.697])"
       ]
      }
     ],
     "prompt_number": 12
    },
    {
     "cell_type": "markdown",
     "metadata": {},
     "source": [
      "Affine transform from x to the barycentric coordinates c.\n",
      "\n",
      "Type:\tndarray of double, shape (nsimplex, ndim+1, ndim)\n",
      "This is defined by:\n",
      "\n",
      "T c = x - r\n",
      "At vertex j, c_j = 1 and the other coordinates zero.\n",
      "\n",
      "For simplex i, transform[i,:ndim,:ndim] contains inverse of the matrix T, and transform[i,ndim,:] contains the vector r."
     ]
    },
    {
     "cell_type": "code",
     "collapsed": false,
     "input": [
      "Triangle1 = np.array([[0, 0], [1, 0], [0.5, 1]])\n",
      "Triangle2 = np.array([[1,1],[2,1],[1.5,1.1]])"
     ],
     "language": "python",
     "metadata": {},
     "outputs": [],
     "prompt_number": 31
    },
    {
     "cell_type": "markdown",
     "metadata": {},
     "source": [
      "This next hunk of code moves point p in Triangle1 to equivalent point in Triangle2"
     ]
    },
    {
     "cell_type": "code",
     "collapsed": false,
     "input": [
      "p = np.array([0.5,0.0])"
     ],
     "language": "python",
     "metadata": {},
     "outputs": [],
     "prompt_number": 32
    },
    {
     "cell_type": "code",
     "collapsed": false,
     "input": [
      "tri1 = Delaunay(Triangle1)\n",
      "tri2 = Delaunay(Triangle2)\n",
      "tri2.transform[0,:2,:2]"
     ],
     "language": "python",
     "metadata": {},
     "outputs": [
      {
       "metadata": {},
       "output_type": "pyout",
       "prompt_number": 33,
       "text": [
        "array([[ 0., 10.],\n",
        "       [ 1., -5.]])"
       ]
      }
     ],
     "prompt_number": 33
    },
    {
     "cell_type": "code",
     "collapsed": false,
     "input": [
      "c = tri1.transform[0,:2,:2].dot(p)\n",
      "p2 = linalg.inv(tri2.transform[0,:2,:2]).dot(c)\n",
      "p2+=tri2.transform[0,2,:2]\n",
      "p2"
     ],
     "language": "python",
     "metadata": {},
     "outputs": [
      {
       "metadata": {},
       "output_type": "pyout",
       "prompt_number": 34,
       "text": [
        "array([ 1.5,  1. ])"
       ]
      }
     ],
     "prompt_number": 34
    },
    {
     "cell_type": "code",
     "collapsed": false,
     "input": [
      "plt.plot(Triangle1[:,0], Triangle1[:,1], 'o')\n",
      "plt.plot(Triangle2[:,0], Triangle2[:,1], 'o')\n",
      "plt.plot(p[0],p[1],'o')\n",
      "plt.plot(p2[0],p2[1],'o')\n",
      "plt.show()"
     ],
     "language": "python",
     "metadata": {},
     "outputs": [],
     "prompt_number": 36
    },
    {
     "cell_type": "code",
     "collapsed": false,
     "input": [
      "c"
     ],
     "language": "python",
     "metadata": {},
     "outputs": [
      {
       "metadata": {},
       "output_type": "pyout",
       "prompt_number": 30,
       "text": [
        "array([ 0.02439024,  0.24390244])"
       ]
      }
     ],
     "prompt_number": 30
    },
    {
     "cell_type": "code",
     "collapsed": false,
     "input": [
      "linalg.inv(tri1.transform[0,:2,:2])"
     ],
     "language": "python",
     "metadata": {},
     "outputs": [
      {
       "metadata": {},
       "output_type": "pyout",
       "prompt_number": 161,
       "text": [
        "array([[ 0.5,  2. ],\n",
        "       [ 1. , -0.1]])"
       ]
      }
     ],
     "prompt_number": 161
    },
    {
     "cell_type": "markdown",
     "metadata": {},
     "source": [
      "looks like inverse transformation is just the two vectors"
     ]
    },
    {
     "cell_type": "code",
     "collapsed": false,
     "input": [
      "tetra = np.array([[0, 0,0], [1, 2,3], [0,2, 4],[1,0,3]])"
     ],
     "language": "python",
     "metadata": {},
     "outputs": [],
     "prompt_number": 171
    },
    {
     "cell_type": "code",
     "collapsed": false,
     "input": [
      "foo = Delaunay(tetra)\n",
      "linalg.inv(foo.transform[0,:3,:3])"
     ],
     "language": "python",
     "metadata": {},
     "outputs": [
      {
       "metadata": {},
       "output_type": "pyout",
       "prompt_number": 172,
       "text": [
        "array([[ 1., -0.,  1.],\n",
        "       [-0.,  2.,  2.],\n",
        "       [ 3.,  4.,  3.]])"
       ]
      }
     ],
     "prompt_number": 172
    },
    {
     "cell_type": "markdown",
     "metadata": {},
     "source": [
      "So given the barycentric coordinates, finding x looks straight forward. \n",
      "For distributions, need to figure out how this relates to normalization, cos/sin coefficients, and the geodesic equation. This formula has form x = T c + r... where r plays role of initial distribution f, but\n",
      "form of geodesic equation looks like f cos(tau D) + tangent sin(tau D).\n",
      "\n",
      "This is more obvious with the gnomic simplex, but seems like that is not needed.\n",
      "\n",
      "Seems like implied barycentric coordinate for origin vertex is like 1-tau... correct limits but not sure if speed is constant... no probably not for gnomic projection.  The speed transformation is probably complicated and likely equivalent to solving gnomic projection.\n"
     ]
    }
   ],
   "metadata": {}
  }
 ]
}